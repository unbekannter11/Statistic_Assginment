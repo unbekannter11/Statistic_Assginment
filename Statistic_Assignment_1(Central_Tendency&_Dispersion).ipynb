{
  "cells": [
    {
      "cell_type": "markdown",
      "metadata": {
        "id": "view-in-github",
        "colab_type": "text"
      },
      "source": [
        "<a href=\"https://colab.research.google.com/github/unbekannter11/Statistic_Assginment/blob/main/Statistic_Assignment_1(Central_Tendency%26_Dispersion).ipynb\" target=\"_parent\"><img src=\"https://colab.research.google.com/assets/colab-badge.svg\" alt=\"Open In Colab\"/></a>"
      ]
    },
    {
      "cell_type": "markdown",
      "metadata": {
        "id": "K7S4cEyZLTp7"
      },
      "source": [
        "## Descriptive Statistics"
      ]
    },
    {
      "cell_type": "markdown",
      "metadata": {
        "id": "vZRYVyc8H7hi"
      },
      "source": [
        "### İmport Library : "
      ]
    },
    {
      "cell_type": "code",
      "execution_count": null,
      "metadata": {
        "id": "7ShN0klrHIk3"
      },
      "outputs": [],
      "source": [
        "import numpy as np\n",
        "from scipy import stats"
      ]
    },
    {
      "cell_type": "code",
      "execution_count": null,
      "metadata": {
        "id": "9Uzbh12XnEoE",
        "outputId": "5facb269-8856-4ef3-d985-71f9d3d69c00"
      },
      "outputs": [
        {
          "data": {
            "text/plain": [
              "array([ 99.6993261 ,  97.42509364, 115.33864995, 100.77520838,\n",
              "       112.26113642, 122.13437111,  70.34861212, 100.86708488,\n",
              "        94.07128822,  51.16846458,  92.33808376, 104.02485781,\n",
              "        93.92148895,  86.3745647 ,  94.95629695, 107.38031601,\n",
              "        80.04974253,  88.80551961,  90.50060792, 110.89925234,\n",
              "       125.07614651,  69.59091017,  86.21375198, 103.96091039,\n",
              "       110.68511238,  77.61029401, 101.13320879,  98.89708982,\n",
              "        97.11315042, 123.67428559, 112.42741168, 103.55302757,\n",
              "        99.03876679, 121.67142658,  95.1235194 , 108.80130295,\n",
              "        88.04815852, 131.07009161, 114.0082345 ,  90.29721054,\n",
              "        90.95211284, 109.93970354, 114.63568091, 108.39480776,\n",
              "        81.39508808, 108.46959171,  92.45888321,  87.12697794,\n",
              "       101.08267853,  81.9414422 , 126.75381603, 105.78230341,\n",
              "        98.89334322,  71.65899461, 101.14319045, 109.83632497,\n",
              "        99.76465909,  80.28794045,  89.09407123, 125.37542237,\n",
              "        80.12380268, 118.42502747,  84.12486287, 125.45561419,\n",
              "        93.26509438, 111.4598419 , 109.14460604, 106.68599805,\n",
              "        89.36300217,  82.50492897,  99.87089648,  85.04991154,\n",
              "       104.42395499,  90.48455093, 127.66386859, 116.17487672,\n",
              "       123.53947081,  86.73806043,  97.11927772,  94.61996215,\n",
              "       104.34354015,  81.22525385,  85.69172702, 125.2748664 ,\n",
              "        70.31463035,  98.46574192,  84.92690636, 125.28460497,\n",
              "        98.73871495,  87.20215848, 103.63341493,  93.83603118,\n",
              "       121.65285458,  95.2318346 , 115.09248989,  91.15014511,\n",
              "        90.32793529, 125.53171322,  98.28208001,  81.21923037])"
            ]
          },
          "execution_count": 2,
          "metadata": {},
          "output_type": "execute_result"
        }
      ],
      "source": [
        "np.random.normal(100,15,100)\n",
        "# ortalaması 100, standart sapma değeri 15 olan 100 tane sayıyı rastgele değerlerden üret demektir.\n",
        "# ürettiği sayılar ortalama 100 den 15 eksik ve 15 fazladır."
      ]
    },
    {
      "cell_type": "markdown",
      "metadata": {
        "id": "yhdlbHNznEoE"
      },
      "source": [
        " Randomly generate 1,000 samples from the normal distribution using `np.random.normal()`(mean = 100, standard deviation = 15)\n",
        "\n",
        "np.random.normal(loc=0.0, scale=1.0, size=None)  #you need to modify this code.\n",
        "\n",
        "loc will be equal to mean, scale will be equal to std deviation, size will be equal to sample size."
      ]
    },
    {
      "cell_type": "code",
      "execution_count": null,
      "metadata": {
        "id": "pS4B6NSFnEoF"
      },
      "outputs": [],
      "source": []
    },
    {
      "cell_type": "markdown",
      "metadata": {
        "id": "Q1HLzQAinEoF"
      },
      "source": [
        "Compute the **mean**, **median**, and **mode**\n",
        "ortalaması 100, standart sapma değeri 15, 1000 adet sayı üretip median mean ve mode değerlerini bulalım."
      ]
    },
    {
      "cell_type": "code",
      "execution_count": null,
      "metadata": {
        "id": "qxpv31qdnEoF",
        "outputId": "0b6726ff-45ac-4a3c-a1e7-5db7497f9fc0"
      },
      "outputs": [
        {
          "name": "stdout",
          "output_type": "stream",
          "text": [
            "Aritmetik ortalaması = 100.95; en ortadaki değeri = 100.96; en çok tekrar eden değeri = 53.01\n"
          ]
        }
      ],
      "source": [
        "samples = np.random.normal(loc=100, scale=15, size=1000)\n",
        "# ortalaması 100, standart sapma değeri 15, 1000 adet sayı üret dedik. \n",
        "ort = round(samples.mean(),2)\n",
        "median = round(np.median(samples),2)\n",
        "mode = list(stats.mode(samples)[0])\n",
        "mode = mode[0]\n",
        "mode = round(mode,2)\n",
        "print(f\"Aritmetik ortalaması = {ort}; en ortadaki değeri = {median}; en çok tekrar eden değeri = {mode}\")"
      ]
    },
    {
      "cell_type": "markdown",
      "metadata": {
        "id": "_SaQURIqIA6d"
      },
      "source": [
        "Compute the **min**, **max**, **Q1**, **Q3**, and **interquartile range**\n",
        "Yukarıda üretilen sayının kartill değerleri ve en büyük en küçük değerlerini hesaplayalım : "
      ]
    },
    {
      "cell_type": "code",
      "execution_count": null,
      "metadata": {
        "id": "Jyw_FMX0IRkm",
        "outputId": "311a9fa0-2579-4fde-8a29-e86ce72ca76f"
      },
      "outputs": [
        {
          "name": "stdout",
          "output_type": "stream",
          "text": [
            "percentile ile Q1 değeri =  90.67\n",
            "percentile ile Q3 değeri =  110.95\n",
            "quantille ile Q1 değeri =  90.67\n",
            "quantille ile Q3 değeri =  110.95\n",
            "Dizinin en küçük değeri =  53.01\n",
            "Dizinin en büyük değeri =  154.11\n",
            "Dizinin en büyük ve en küçük değeri arasındaki fark =  101.09\n",
            "Dizinin IQR değeri = 20.28\n"
          ]
        }
      ],
      "source": [
        "print(\"percentile ile Q1 değeri = \", round(np.percentile(samples,25),2))\n",
        "print(\"percentile ile Q3 değeri = \", round(np.percentile(samples,75),2))\n",
        "print(\"quantille ile Q1 değeri = \", round(np.quantile(samples,0.25),2))\n",
        "print(\"quantille ile Q3 değeri = \", round(np.quantile(samples,0.75),2))\n",
        "print(\"Dizinin en küçük değeri = \", round(samples.min(),2))\n",
        "print(\"Dizinin en büyük değeri = \", round(samples.max(),2))\n",
        "print(\"Dizinin en büyük ve en küçük değeri arasındaki fark = \", round(np.ptp(samples),2))\n",
        "print(f\"Dizinin IQR değeri = {round(np.percentile(samples,75) - np.percentile(samples,25),2) }\")"
      ]
    },
    {
      "cell_type": "markdown",
      "metadata": {
        "id": "CDF8m3a4IYOC"
      },
      "source": [
        "Compute the **variance** and **standard deviation**\n",
        "Dizinin varyans standart sapma değerleri : "
      ]
    },
    {
      "cell_type": "code",
      "execution_count": null,
      "metadata": {
        "id": "ZKbeqxaKIoNs",
        "outputId": "81e07b31-0b9e-4ca1-9f0e-134e61c1ac12"
      },
      "outputs": [
        {
          "name": "stdout",
          "output_type": "stream",
          "text": [
            "Dizinin varyans değeri = 213.65 ve standart sapma değeri = 14.62\n"
          ]
        }
      ],
      "source": [
        "var = samples.var()\n",
        "std = samples.std()\n",
        "print(f\"Dizinin varyans değeri = {round(var,2)} ve standart sapma değeri = {round(std,2)}\")"
      ]
    },
    {
      "cell_type": "markdown",
      "metadata": {
        "id": "skT8m39XI60w"
      },
      "source": [
        "Compute the **skewness** and **kurtosis**\n",
        "Dizinin çarpıklık ve basıklık kat sayılarını hesaplayalım : "
      ]
    },
    {
      "cell_type": "code",
      "execution_count": null,
      "metadata": {
        "id": "VaiDphm8It0O",
        "outputId": "b84c9099-52ee-49a4-9afb-329270e22513"
      },
      "outputs": [
        {
          "name": "stdout",
          "output_type": "stream",
          "text": [
            "Dizinin çarpıklık katsayısı = 0.07, basıklık katsayısı = -0.04\n"
          ]
        }
      ],
      "source": [
        "carpiklik = round(stats.describe(samples).skewness,2)\n",
        "basiklik = round(stats.describe(samples).kurtosis,2)\n",
        "print(f\"Dizinin çarpıklık katsayısı = {carpiklik}, basıklık katsayısı = {basiklik}\")"
      ]
    },
    {
      "cell_type": "markdown",
      "metadata": {
        "id": "m53Dv3n5JHQi"
      },
      "source": [
        "### NumPy Correlation Calculation : "
      ]
    },
    {
      "cell_type": "markdown",
      "metadata": {
        "id": "Yi2nNjF5nEoI"
      },
      "source": [
        "Create an array x of integers between 10 (inclusive) and 20 (exclusive). Use `np.arange()`\n",
        "10 ve 20 arasında 10 dahil sırasıyla array yapalım"
      ]
    },
    {
      "cell_type": "code",
      "execution_count": null,
      "metadata": {
        "id": "Pe6HtdC8nEoJ",
        "outputId": "0568e1ca-4c55-461f-b873-c42d8957e2e2"
      },
      "outputs": [
        {
          "data": {
            "text/plain": [
              "array([10, 11, 12, 13, 14, 15, 16, 17, 18, 19])"
            ]
          },
          "execution_count": 36,
          "metadata": {},
          "output_type": "execute_result"
        }
      ],
      "source": [
        "array = np.arange(10,20)\n",
        "array"
      ]
    },
    {
      "cell_type": "markdown",
      "metadata": {
        "id": "IuVIsZ1GnEoJ"
      },
      "source": [
        "Then use `np.array()` to create a second array y containing 10 arbitrary integers.\n",
        "ardından 10 rastgele tamsayı içeren bir array dizisi yapalım :"
      ]
    },
    {
      "cell_type": "code",
      "execution_count": null,
      "metadata": {
        "id": "y8gTSPWtnEoJ",
        "outputId": "bdad2c91-406e-4eca-ed1c-94a5492e0f45"
      },
      "outputs": [
        {
          "data": {
            "text/plain": [
              "array([4, 6, 9, 8, 6, 5, 4, 9, 9, 7])"
            ]
          },
          "execution_count": 37,
          "metadata": {},
          "output_type": "execute_result"
        }
      ],
      "source": [
        "array = np.random.randint(1,10,10)\n",
        "array"
      ]
    },
    {
      "cell_type": "markdown",
      "metadata": {
        "id": "u7BMRcw5nEoJ"
      },
      "source": [
        "Once you have two arrays of the same length, you can compute the **correlation coefficient** between x and y\n",
        "Aynı uzunlukta iki dizi oluşturun ve korelasyon katsayılarını bulun."
      ]
    },
    {
      "cell_type": "code",
      "execution_count": null,
      "metadata": {
        "id": "6JFaAYdrJbeN",
        "outputId": "6225a1cc-68bb-4ff3-a377-5cdc8ab476c9"
      },
      "outputs": [
        {
          "name": "stdout",
          "output_type": "stream",
          "text": [
            "Korelasyon katsayıları = 0.12789597616730525\n"
          ]
        }
      ],
      "source": [
        "x = np.random.randint(10,45,size=10)\n",
        "y = np.random.randint(15,40,size=10)\n",
        "corelasyon = np.corrcoef(x,y)[0,1]\n",
        "print(f\"Korelasyon katsayıları = {corelasyon}\")\n",
        "# aralarında pozitif yönlü bir korelasyon var."
      ]
    },
    {
      "cell_type": "markdown",
      "metadata": {
        "id": "lr1XTX_KnEoJ"
      },
      "source": [
        "## Pandas Correlation Calculation :"
      ]
    },
    {
      "cell_type": "code",
      "execution_count": null,
      "metadata": {
        "id": "WS7HPqbNnEoK",
        "outputId": "fc36cac8-7fe8-41c3-ea5c-6085e3675bb6"
      },
      "outputs": [
        {
          "name": "stdout",
          "output_type": "stream",
          "text": [
            " pearson = 0.7586402890911869\n",
            "spearmen = 0.9757575757575757\n"
          ]
        }
      ],
      "source": [
        "x = pd.Series(range(10, 20))\n",
        "y = pd.Series([2, 1, 4, 5, 8, 12, 18, 25, 96, 48])\n",
        "# iki dizi arasında ki pearson korelasyon katsayısı : \n",
        "import pandas as pd\n",
        "\n",
        "x = pd.DataFrame(x)\n",
        "y = pd.DataFrame(y)\n",
        "data = pd.concat([x, y], axis=1)\n",
        "data.columns = [\"X\",\"Y\"]\n",
        "print(f\" pearson = {data.corr().iloc[0,1]}\")\n",
        "sp = data[\"X\"].corr(data[\"Y\"], method=\"spearman\")\n",
        "print(f\"spearmen = {sp}\")"
      ]
    },
    {
      "cell_type": "markdown",
      "metadata": {
        "id": "fQJrORiYnEoK"
      },
      "source": [
        "## Seaborn Dataset Tips : "
      ]
    },
    {
      "cell_type": "code",
      "execution_count": null,
      "metadata": {
        "id": "t2-tHcGdnEoK",
        "outputId": "ff64d9c0-6f70-4da6-9923-2cf3d9f12445"
      },
      "outputs": [
        {
          "data": {
            "text/html": [
              "<div>\n",
              "<style scoped>\n",
              "    .dataframe tbody tr th:only-of-type {\n",
              "        vertical-align: middle;\n",
              "    }\n",
              "\n",
              "    .dataframe tbody tr th {\n",
              "        vertical-align: top;\n",
              "    }\n",
              "\n",
              "    .dataframe thead th {\n",
              "        text-align: right;\n",
              "    }\n",
              "</style>\n",
              "<table border=\"1\" class=\"dataframe\">\n",
              "  <thead>\n",
              "    <tr style=\"text-align: right;\">\n",
              "      <th></th>\n",
              "      <th>total_bill</th>\n",
              "      <th>tip</th>\n",
              "      <th>sex</th>\n",
              "      <th>smoker</th>\n",
              "      <th>day</th>\n",
              "      <th>time</th>\n",
              "      <th>size</th>\n",
              "    </tr>\n",
              "  </thead>\n",
              "  <tbody>\n",
              "    <tr>\n",
              "      <th>0</th>\n",
              "      <td>16.99</td>\n",
              "      <td>1.01</td>\n",
              "      <td>Female</td>\n",
              "      <td>No</td>\n",
              "      <td>Sun</td>\n",
              "      <td>Dinner</td>\n",
              "      <td>2</td>\n",
              "    </tr>\n",
              "    <tr>\n",
              "      <th>1</th>\n",
              "      <td>10.34</td>\n",
              "      <td>1.66</td>\n",
              "      <td>Male</td>\n",
              "      <td>No</td>\n",
              "      <td>Sun</td>\n",
              "      <td>Dinner</td>\n",
              "      <td>3</td>\n",
              "    </tr>\n",
              "    <tr>\n",
              "      <th>2</th>\n",
              "      <td>21.01</td>\n",
              "      <td>3.50</td>\n",
              "      <td>Male</td>\n",
              "      <td>No</td>\n",
              "      <td>Sun</td>\n",
              "      <td>Dinner</td>\n",
              "      <td>3</td>\n",
              "    </tr>\n",
              "    <tr>\n",
              "      <th>3</th>\n",
              "      <td>23.68</td>\n",
              "      <td>3.31</td>\n",
              "      <td>Male</td>\n",
              "      <td>No</td>\n",
              "      <td>Sun</td>\n",
              "      <td>Dinner</td>\n",
              "      <td>2</td>\n",
              "    </tr>\n",
              "    <tr>\n",
              "      <th>4</th>\n",
              "      <td>24.59</td>\n",
              "      <td>3.61</td>\n",
              "      <td>Female</td>\n",
              "      <td>No</td>\n",
              "      <td>Sun</td>\n",
              "      <td>Dinner</td>\n",
              "      <td>4</td>\n",
              "    </tr>\n",
              "  </tbody>\n",
              "</table>\n",
              "</div>"
            ],
            "text/plain": [
              "   total_bill   tip     sex smoker  day    time  size\n",
              "0       16.99  1.01  Female     No  Sun  Dinner     2\n",
              "1       10.34  1.66    Male     No  Sun  Dinner     3\n",
              "2       21.01  3.50    Male     No  Sun  Dinner     3\n",
              "3       23.68  3.31    Male     No  Sun  Dinner     2\n",
              "4       24.59  3.61  Female     No  Sun  Dinner     4"
            ]
          },
          "execution_count": 51,
          "metadata": {},
          "output_type": "execute_result"
        }
      ],
      "source": [
        "import seaborn as sns\n",
        "df = sns.load_dataset(\"tips\")\n",
        "df.head()"
      ]
    },
    {
      "cell_type": "markdown",
      "metadata": {
        "id": "jLYiADaYnEoK"
      },
      "source": [
        "Generate descriptive statistics include those that summarize the central tendency, dispersion\n",
        "Tanımlayıcı istatistikler oluşturun"
      ]
    },
    {
      "cell_type": "code",
      "execution_count": null,
      "metadata": {
        "id": "vqxhFM-_nEoK",
        "outputId": "e6f7bc7d-01d2-4456-da31-5f863dc205ba"
      },
      "outputs": [
        {
          "data": {
            "text/html": [
              "<div>\n",
              "<style scoped>\n",
              "    .dataframe tbody tr th:only-of-type {\n",
              "        vertical-align: middle;\n",
              "    }\n",
              "\n",
              "    .dataframe tbody tr th {\n",
              "        vertical-align: top;\n",
              "    }\n",
              "\n",
              "    .dataframe thead th {\n",
              "        text-align: right;\n",
              "    }\n",
              "</style>\n",
              "<table border=\"1\" class=\"dataframe\">\n",
              "  <thead>\n",
              "    <tr style=\"text-align: right;\">\n",
              "      <th></th>\n",
              "      <th>count</th>\n",
              "      <th>mean</th>\n",
              "      <th>std</th>\n",
              "      <th>min</th>\n",
              "      <th>25%</th>\n",
              "      <th>50%</th>\n",
              "      <th>75%</th>\n",
              "      <th>max</th>\n",
              "    </tr>\n",
              "  </thead>\n",
              "  <tbody>\n",
              "    <tr>\n",
              "      <th>total_bill</th>\n",
              "      <td>244.0</td>\n",
              "      <td>19.785943</td>\n",
              "      <td>8.902412</td>\n",
              "      <td>3.07</td>\n",
              "      <td>13.3475</td>\n",
              "      <td>17.795</td>\n",
              "      <td>24.1275</td>\n",
              "      <td>50.81</td>\n",
              "    </tr>\n",
              "    <tr>\n",
              "      <th>tip</th>\n",
              "      <td>244.0</td>\n",
              "      <td>2.998279</td>\n",
              "      <td>1.383638</td>\n",
              "      <td>1.00</td>\n",
              "      <td>2.0000</td>\n",
              "      <td>2.900</td>\n",
              "      <td>3.5625</td>\n",
              "      <td>10.00</td>\n",
              "    </tr>\n",
              "    <tr>\n",
              "      <th>size</th>\n",
              "      <td>244.0</td>\n",
              "      <td>2.569672</td>\n",
              "      <td>0.951100</td>\n",
              "      <td>1.00</td>\n",
              "      <td>2.0000</td>\n",
              "      <td>2.000</td>\n",
              "      <td>3.0000</td>\n",
              "      <td>6.00</td>\n",
              "    </tr>\n",
              "  </tbody>\n",
              "</table>\n",
              "</div>"
            ],
            "text/plain": [
              "            count       mean       std   min      25%     50%      75%    max\n",
              "total_bill  244.0  19.785943  8.902412  3.07  13.3475  17.795  24.1275  50.81\n",
              "tip         244.0   2.998279  1.383638  1.00   2.0000   2.900   3.5625  10.00\n",
              "size        244.0   2.569672  0.951100  1.00   2.0000   2.000   3.0000   6.00"
            ]
          },
          "execution_count": 61,
          "metadata": {},
          "output_type": "execute_result"
        }
      ],
      "source": [
        "df.describe().T"
      ]
    },
    {
      "cell_type": "markdown",
      "metadata": {
        "id": "cYhb32VSnEoK"
      },
      "source": [
        "Call the relevant method to calculate pairwise Pearson's r correlation of columns (plus heatmap)"
      ]
    },
    {
      "cell_type": "code",
      "execution_count": null,
      "metadata": {
        "id": "BftTzXJenEoL",
        "outputId": "50d39a09-530a-4ce3-b930-77aac6bba087"
      },
      "outputs": [
        {
          "data": {
            "image/png": "[encoded data removed]",
            "text/plain": [
              "<Figure size 432x288 with 2 Axes>"
            ]
          },
          "metadata": {
            "needs_background": "light"
          },
          "output_type": "display_data"
        }
      ],
      "source": [
        "tips = df.select_dtypes([float, int])\n",
        "sns.heatmap(data = tips);\n",
        "# sayısal değşkenlerin korelasyon haritası"
      ]
    },
    {
      "cell_type": "code",
      "execution_count": null,
      "metadata": {
        "id": "gDe0yL-0nEoL",
        "outputId": "5e6d494b-3c57-4d73-9c95-71412f3a9af5"
      },
      "outputs": [
        {
          "data": {
            "image/png": "[encoded data removed]",
            "text/plain": [
              "<Figure size 432x288 with 2 Axes>"
            ]
          },
          "metadata": {
            "needs_background": "light"
          },
          "output_type": "display_data"
        }
      ],
      "source": [
        "sns.heatmap(df.corr());\n",
        "# tüm datanın korelasyon haritası"
      ]
    },
    {
      "cell_type": "markdown",
      "metadata": {
        "id": "5eup4hI1JzqX"
      },
      "source": []
    },
    {
      "cell_type": "code",
      "execution_count": null,
      "metadata": {
        "id": "YO3obyDnJ3_D"
      },
      "outputs": [],
      "source": []
    },
    {
      "cell_type": "markdown",
      "metadata": {
        "id": "a5UNc8PUKnbU"
      },
      "source": []
    },
    {
      "cell_type": "markdown",
      "metadata": {
        "id": "cLiqxE1CMNTg"
      },
      "source": []
    },
    {
      "cell_type": "code",
      "execution_count": null,
      "metadata": {
        "id": "5LAaQ6w5L-2L"
      },
      "outputs": [],
      "source": []
    },
    {
      "cell_type": "markdown",
      "metadata": {
        "id": "qyCIaukNMZPf"
      },
      "source": []
    },
    {
      "cell_type": "code",
      "execution_count": null,
      "metadata": {
        "id": "p27eW__gNMdh"
      },
      "outputs": [],
      "source": []
    },
    {
      "cell_type": "markdown",
      "metadata": {
        "id": "Kh_VeKwINSqS"
      },
      "source": []
    },
    {
      "cell_type": "code",
      "execution_count": null,
      "metadata": {
        "id": "yrtC6rPkNSDC"
      },
      "outputs": [],
      "source": []
    },
    {
      "cell_type": "markdown",
      "metadata": {
        "id": "vXieLjYiNtPi"
      },
      "source": []
    },
    {
      "cell_type": "markdown",
      "metadata": {
        "id": "z56t0k0qNvkr"
      },
      "source": []
    },
    {
      "cell_type": "code",
      "execution_count": null,
      "metadata": {
        "id": "9AVBMJCyNuwb"
      },
      "outputs": [],
      "source": []
    },
    {
      "cell_type": "markdown",
      "metadata": {
        "id": "ZajVXYe2OCih"
      },
      "source": []
    },
    {
      "cell_type": "code",
      "execution_count": null,
      "metadata": {
        "id": "Ak_rkzbLOafj"
      },
      "outputs": [],
      "source": []
    },
    {
      "cell_type": "markdown",
      "metadata": {
        "id": "1CygSbnROb9V"
      },
      "source": []
    },
    {
      "cell_type": "code",
      "execution_count": null,
      "metadata": {
        "id": "xp_QkXwmOlYY"
      },
      "outputs": [],
      "source": []
    },
    {
      "cell_type": "markdown",
      "metadata": {
        "id": "we7pg7kdOo7y"
      },
      "source": []
    },
    {
      "cell_type": "markdown",
      "metadata": {
        "id": "VlzgFKN7OvqX"
      },
      "source": []
    },
    {
      "cell_type": "code",
      "execution_count": null,
      "metadata": {
        "id": "t-49JRRqO4pw"
      },
      "outputs": [],
      "source": []
    },
    {
      "cell_type": "markdown",
      "metadata": {
        "id": "0INVBB4tO4y4"
      },
      "source": []
    },
    {
      "cell_type": "code",
      "execution_count": null,
      "metadata": {
        "id": "kieLvcM1PBv7"
      },
      "outputs": [],
      "source": []
    },
    {
      "cell_type": "markdown",
      "metadata": {
        "id": "o2ISqVQrPh5S"
      },
      "source": []
    },
    {
      "cell_type": "code",
      "execution_count": null,
      "metadata": {
        "id": "FyFvmdbJPVg6"
      },
      "outputs": [],
      "source": []
    },
    {
      "cell_type": "markdown",
      "metadata": {
        "id": "3yCRK4VJPzRo"
      },
      "source": []
    },
    {
      "cell_type": "code",
      "execution_count": null,
      "metadata": {
        "id": "qwvGzDU8PGnM"
      },
      "outputs": [],
      "source": []
    }
  ],
  "metadata": {
    "colab": {
      "provenance": [],
      "include_colab_link": true
    },
    "kernelspec": {
      "display_name": "Python 3 (ipykernel)",
      "language": "python",
      "name": "python3"
    },
    "language_info": {
      "codemirror_mode": {
        "name": "ipython",
        "version": 3
      },
      "file_extension": ".py",
      "mimetype": "text/x-python",
      "name": "python",
      "nbconvert_exporter": "python",
      "pygments_lexer": "ipython3",
      "version": "3.9.12"
    }
  },
  "nbformat": 4,
  "nbformat_minor": 0
}